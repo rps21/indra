{
 "cells": [
  {
   "cell_type": "markdown",
   "metadata": {},
   "source": [
    "# Antibody mapping curation\n",
    "\n",
    "- we have a bunch of antibodies that supposedly target phosphorylated amino acid residues  at given coordinates in particular genes\n",
    "- we will verify that the given amino acid coordinates exist in each target gene\n",
    "\n",
    "### How?\n",
    "- if the amino acid coordinates do not match, we will check the post-translational modifcations\n",
    "    - if there is a phosphorylated residue of the same amino acid nearby, we will assign that residue as the correct phosphorylation site\n",
    "    - if such a residue is too far, we may assign the phosphorylation site to the nearest residue of the same amino acid"
   ]
  },
  {
   "cell_type": "code",
   "execution_count": 1,
   "metadata": {
    "collapsed": true
   },
   "outputs": [],
   "source": [
    "from indra.databases import uniprot_client as uc"
   ]
  },
  {
   "cell_type": "code",
   "execution_count": 2,
   "metadata": {
    "collapsed": true
   },
   "outputs": [],
   "source": [
    "def site_check(up, residue, coord):\n",
    "    seq = uc.get_sequence(up)\n",
    "    seq = \" \" + seq\n",
    "    n = coord\n",
    "    print('http://www.uniprot.org/uniprot/' + up)\n",
    "    print('name ', uc.get_gene_name(up))\n",
    "    print('length ', len(seq))\n",
    "    start_string = n-20\n",
    "    if start_string < 0:\n",
    "        start_string = 0\n",
    "    print(seq[start_string:n], seq[n], seq[n+1:n+21])\n",
    "    if residue == seq[n]:\n",
    "        print(\"ok.\")\n",
    "    else:\n",
    "        print(\"X X X X X X X X X X X X X X X X X X X X X X X X X X X X X X X X X X X X X X\")"
   ]
  },
  {
   "cell_type": "markdown",
   "metadata": {},
   "source": [
    "---\n",
    "# MAP2K1"
   ]
  },
  {
   "cell_type": "code",
   "execution_count": 3,
   "metadata": {},
   "outputs": [
    {
     "name": "stdout",
     "output_type": "stream",
     "text": [
      "http://www.uniprot.org/uniprot/Q02750-1\n",
      "name  MAP2K1\n",
      "length  394\n",
      "VNSRGEIKLCDFGVSGQLID S MANSFVGTRSYMSPERLQGT\n",
      "ok.\n"
     ]
    }
   ],
   "source": [
    "site_check('Q02750-1', 'S', 218)"
   ]
  },
  {
   "cell_type": "markdown",
   "metadata": {},
   "source": [
    "---\n",
    "# MAP2K2"
   ]
  },
  {
   "cell_type": "code",
   "execution_count": 4,
   "metadata": {},
   "outputs": [
    {
     "name": "stdout",
     "output_type": "stream",
     "text": [
      "http://www.uniprot.org/uniprot/P36507-1\n",
      "name  MAP2K2\n",
      "length  401\n",
      "VNSRGEIKLCDFGVSGQLID S MANSFVGTRSYMAPERLQGT\n",
      "ok.\n"
     ]
    }
   ],
   "source": [
    "site_check('P36507-1', 'S', 222)"
   ]
  },
  {
   "cell_type": "markdown",
   "metadata": {},
   "source": [
    "---\n",
    "# MAPK1"
   ]
  },
  {
   "cell_type": "code",
   "execution_count": 5,
   "metadata": {
    "scrolled": true
   },
   "outputs": [
    {
     "name": "stdout",
     "output_type": "stream",
     "text": [
      "http://www.uniprot.org/uniprot/P28482-1\n",
      "name  MAPK1\n",
      "length  361\n",
      "GFLTEYVATRWYRAPEIMLN S KGYTKSIDIWSVGCILAEML\n",
      "X X X X X X X X X X X X X X X X X X X X X X X X X X X X X X X X X X X X X X\n"
     ]
    }
   ],
   "source": [
    "site_check('P28482-1', 'T', 202)"
   ]
  },
  {
   "cell_type": "code",
   "execution_count": 6,
   "metadata": {},
   "outputs": [
    {
     "name": "stdout",
     "output_type": "stream",
     "text": [
      "http://www.uniprot.org/uniprot/P28482-1\n",
      "name  MAPK1\n",
      "length  361\n",
      "LTEYVATRWYRAPEIMLNSK G YTKSIDIWSVGCILAEMLSN\n",
      "X X X X X X X X X X X X X X X X X X X X X X X X X X X X X X X X X X X X X X\n"
     ]
    }
   ],
   "source": [
    "site_check('P28482-1', 'Y', 204)"
   ]
  },
  {
   "cell_type": "markdown",
   "metadata": {},
   "source": [
    "### check PTM section\n",
    "- T185 Y187 pair found"
   ]
  },
  {
   "cell_type": "code",
   "execution_count": 7,
   "metadata": {
    "scrolled": true
   },
   "outputs": [
    {
     "name": "stdout",
     "output_type": "stream",
     "text": [
      "http://www.uniprot.org/uniprot/P28482-1\n",
      "name  MAPK1\n",
      "length  361\n",
      "ICDFGLARVADPDHDHTGFL T EYVATRWYRAPEIMLNSKGY\n",
      "ok.\n"
     ]
    }
   ],
   "source": [
    "site_check('P28482-1', 'T', 185)"
   ]
  },
  {
   "cell_type": "code",
   "execution_count": 8,
   "metadata": {},
   "outputs": [
    {
     "name": "stdout",
     "output_type": "stream",
     "text": [
      "http://www.uniprot.org/uniprot/P28482-1\n",
      "name  MAPK1\n",
      "length  361\n",
      "DFGLARVADPDHDHTGFLTE Y VATRWYRAPEIMLNSKGYTK\n",
      "ok.\n"
     ]
    }
   ],
   "source": [
    "site_check('P28482-1', 'Y', 187)"
   ]
  },
  {
   "cell_type": "markdown",
   "metadata": {},
   "source": [
    "---\n",
    "# MAPK3"
   ]
  },
  {
   "cell_type": "code",
   "execution_count": 9,
   "metadata": {},
   "outputs": [
    {
     "name": "stdout",
     "output_type": "stream",
     "text": [
      "http://www.uniprot.org/uniprot/P27361-1\n",
      "name  MAPK3\n",
      "length  380\n",
      "RDLKPSNLLINTTCDLKICD F GLARIADPEHDHTGFLTEYV\n",
      "X X X X X X X X X X X X X X X X X X X X X X X X X X X X X X X X X X X X X X\n"
     ]
    }
   ],
   "source": [
    "site_check('P27361-1', 'T', 185)"
   ]
  },
  {
   "cell_type": "code",
   "execution_count": 10,
   "metadata": {},
   "outputs": [
    {
     "name": "stdout",
     "output_type": "stream",
     "text": [
      "http://www.uniprot.org/uniprot/P27361-1\n",
      "name  MAPK3\n",
      "length  380\n",
      "LKPSNLLINTTCDLKICDFG L ARIADPEHDHTGFLTEYVAT\n",
      "X X X X X X X X X X X X X X X X X X X X X X X X X X X X X X X X X X X X X X\n"
     ]
    }
   ],
   "source": [
    "site_check('P27361-1', 'Y', 187)"
   ]
  },
  {
   "cell_type": "markdown",
   "metadata": {},
   "source": [
    "### check PTM section\n",
    "- T202 Y204 pair found\n",
    "- There is also a T198, but this does not match the spacing\n",
    "- A pair that matches spacing at T202 and Y204\n",
    "- Supported by phosphosite"
   ]
  },
  {
   "cell_type": "code",
   "execution_count": 11,
   "metadata": {
    "scrolled": true
   },
   "outputs": [
    {
     "name": "stdout",
     "output_type": "stream",
     "text": [
      "http://www.uniprot.org/uniprot/P27361-1\n",
      "name  MAPK3\n",
      "length  380\n",
      "ICDFGLARIADPEHDHTGFL T EYVATRWYRAPEIMLNSKGY\n",
      "ok.\n"
     ]
    }
   ],
   "source": [
    "site_check('P27361-1', 'T', 202)"
   ]
  },
  {
   "cell_type": "code",
   "execution_count": 12,
   "metadata": {},
   "outputs": [
    {
     "name": "stdout",
     "output_type": "stream",
     "text": [
      "http://www.uniprot.org/uniprot/P27361-1\n",
      "name  MAPK3\n",
      "length  380\n",
      "DFGLARIADPEHDHTGFLTE Y VATRWYRAPEIMLNSKGYTK\n",
      "ok.\n"
     ]
    }
   ],
   "source": [
    "site_check('P27361-1', 'Y', 204)"
   ]
  },
  {
   "cell_type": "markdown",
   "metadata": {},
   "source": [
    "---\n",
    "# RPS6KA1"
   ]
  },
  {
   "cell_type": "code",
   "execution_count": 13,
   "metadata": {},
   "outputs": [
    {
     "name": "stdout",
     "output_type": "stream",
     "text": [
      "http://www.uniprot.org/uniprot/Q15418-1\n",
      "name  RPS6KA1\n",
      "length  736\n",
      "PKDSPGIPPSAGAHQLFRGF S FVATGLMEDDGKPRAPQAPL\n",
      "ok.\n"
     ]
    }
   ],
   "source": [
    "site_check('Q15418-1', 'S', 380)"
   ]
  },
  {
   "cell_type": "code",
   "execution_count": 14,
   "metadata": {},
   "outputs": [
    {
     "name": "stdout",
     "output_type": "stream",
     "text": [
      "http://www.uniprot.org/uniprot/Q15418-1\n",
      "name  RPS6KA1\n",
      "length  736\n",
      "LRICDFGFAKQLRAENGLLM T PCYTANFVAPEVLKRQGYDE\n",
      "ok.\n"
     ]
    }
   ],
   "source": [
    "site_check('Q15418-1', 'T', 573)"
   ]
  },
  {
   "cell_type": "markdown",
   "metadata": {},
   "source": [
    "---\n",
    "# AKT1"
   ]
  },
  {
   "cell_type": "code",
   "execution_count": 15,
   "metadata": {},
   "outputs": [
    {
     "name": "stdout",
     "output_type": "stream",
     "text": [
      "http://www.uniprot.org/uniprot/P31749-1\n",
      "name  AKT1\n",
      "length  481\n",
      "IKITDFGLCKEGIKDGATMK T FCGTPEYLAPEVLEDNDYGR\n",
      "ok.\n"
     ]
    }
   ],
   "source": [
    "site_check('P31749-1', 'T', 308)"
   ]
  },
  {
   "cell_type": "code",
   "execution_count": 16,
   "metadata": {},
   "outputs": [
    {
     "name": "stdout",
     "output_type": "stream",
     "text": [
      "http://www.uniprot.org/uniprot/P31749-1\n",
      "name  AKT1\n",
      "length  481\n",
      "DQDDSMECVDSERRPHFPQF S YSASGTA\n",
      "ok.\n"
     ]
    }
   ],
   "source": [
    "site_check('P31749-1', 'S', 473)"
   ]
  },
  {
   "cell_type": "markdown",
   "metadata": {},
   "source": [
    "---\n",
    "# AKT2"
   ]
  },
  {
   "cell_type": "code",
   "execution_count": 17,
   "metadata": {},
   "outputs": [
    {
     "name": "stdout",
     "output_type": "stream",
     "text": [
      "http://www.uniprot.org/uniprot/P31751-1\n",
      "name  AKT2\n",
      "length  482\n",
      "DRYDSLGLLELDQRTHFPQF S YSASIRE\n",
      "ok.\n"
     ]
    }
   ],
   "source": [
    "site_check('P31751-1', 'S', 474)"
   ]
  },
  {
   "cell_type": "markdown",
   "metadata": {},
   "source": [
    "---\n",
    "# AKT3"
   ]
  },
  {
   "cell_type": "code",
   "execution_count": 18,
   "metadata": {},
   "outputs": [
    {
     "name": "stdout",
     "output_type": "stream",
     "text": [
      "http://www.uniprot.org/uniprot/Q9Y243-1\n",
      "name  AKT3\n",
      "length  480\n",
      "DGMDCMDNERRPHFPQFSYS A SGRE\n",
      "X X X X X X X X X X X X X X X X X X X X X X X X X X X X X X X X X X X X X X\n"
     ]
    }
   ],
   "source": [
    "site_check('Q9Y243-1', 'S', 475)"
   ]
  },
  {
   "cell_type": "markdown",
   "metadata": {},
   "source": [
    "### check PTM\n",
    "- phosphoserine only listed at 472\n",
    "- nearest one"
   ]
  },
  {
   "cell_type": "code",
   "execution_count": 19,
   "metadata": {},
   "outputs": [
    {
     "name": "stdout",
     "output_type": "stream",
     "text": [
      "http://www.uniprot.org/uniprot/Q9Y243-1\n",
      "name  AKT3\n",
      "length  480\n",
      "YDEDGMDCMDNERRPHFPQF S YSASGRE\n",
      "ok.\n"
     ]
    }
   ],
   "source": [
    "site_check('Q9Y243-1', 'S', 472)"
   ]
  },
  {
   "cell_type": "markdown",
   "metadata": {},
   "source": [
    "---\n",
    "# MTOR"
   ]
  },
  {
   "cell_type": "code",
   "execution_count": 20,
   "metadata": {},
   "outputs": [
    {
     "name": "stdout",
     "output_type": "stream",
     "text": [
      "http://www.uniprot.org/uniprot/P42345-1\n",
      "name  MTOR\n",
      "length  2550\n",
      "NWRLMDTNTKGNKRSRTRTD S YSAGQSVEILDGVELGEPAH\n",
      "ok.\n"
     ]
    }
   ],
   "source": [
    "site_check('P42345-1', 'S', 2448)"
   ]
  },
  {
   "cell_type": "markdown",
   "metadata": {},
   "source": [
    "---\n",
    "# RPS6KB1"
   ]
  },
  {
   "cell_type": "code",
   "execution_count": 21,
   "metadata": {},
   "outputs": [
    {
     "name": "stdout",
     "output_type": "stream",
     "text": [
      "http://www.uniprot.org/uniprot/P23443-1\n",
      "name  RPS6KB1\n",
      "length  526\n",
      "FKPLLQSEEDVSQFDSKFTR Q TPVDSPDDSTLSESANQVFL\n",
      "X X X X X X X X X X X X X X X X X X X X X X X X X X X X X X X X X X X X X X\n"
     ]
    }
   ],
   "source": [
    "site_check('P23443-1', 'T', 389)"
   ]
  },
  {
   "cell_type": "markdown",
   "metadata": {},
   "source": [
    "### check PTM\n",
    "- phosphothreonines at positions 252, 412, 444\n",
    "- there is nothing near 389 listed on UniProt\n",
    "- should be 412 as per Phosphosite and curated site map"
   ]
  },
  {
   "cell_type": "code",
   "execution_count": 22,
   "metadata": {},
   "outputs": [
    {
     "name": "stdout",
     "output_type": "stream",
     "text": [
      "http://www.uniprot.org/uniprot/P23443-1\n",
      "name  RPS6KB1\n",
      "length  526\n",
      "VDSPDDSTLSESANQVFLGF T YVAPSVLESVKEKFSFEPKI\n",
      "ok.\n"
     ]
    }
   ],
   "source": [
    "site_check('P23443-1', 'T', 412)"
   ]
  },
  {
   "cell_type": "markdown",
   "metadata": {},
   "source": [
    "- Next is the pair of **T421/T424**"
   ]
  },
  {
   "cell_type": "code",
   "execution_count": 23,
   "metadata": {},
   "outputs": [
    {
     "name": "stdout",
     "output_type": "stream",
     "text": [
      "http://www.uniprot.org/uniprot/P23443-1\n",
      "name  RPS6KB1\n",
      "length  526\n",
      "SESANQVFLGFTYVAPSVLE S VKEKFSFEPKIRSPRRFIGS\n",
      "X X X X X X X X X X X X X X X X X X X X X X X X X X X X X X X X X X X X X X\n"
     ]
    }
   ],
   "source": [
    "site_check('P23443-1', 'T', 421)"
   ]
  },
  {
   "cell_type": "code",
   "execution_count": 24,
   "metadata": {
    "scrolled": true
   },
   "outputs": [
    {
     "name": "stdout",
     "output_type": "stream",
     "text": [
      "http://www.uniprot.org/uniprot/P23443-1\n",
      "name  RPS6KB1\n",
      "length  526\n",
      "ANQVFLGFTYVAPSVLESVK E KFSFEPKIRSPRRFIGSPRT\n",
      "X X X X X X X X X X X X X X X X X X X X X X X X X X X X X X X X X X X X X X\n"
     ]
    }
   ],
   "source": [
    "site_check('P23443-1', 'S', 424)"
   ]
  },
  {
   "cell_type": "markdown",
   "metadata": {},
   "source": [
    "### check PTM\n",
    "- there is T444 and S447, also annotated as correct by Phosphosite"
   ]
  },
  {
   "cell_type": "code",
   "execution_count": 25,
   "metadata": {},
   "outputs": [
    {
     "name": "stdout",
     "output_type": "stream",
     "text": [
      "http://www.uniprot.org/uniprot/P23443-1\n",
      "name  RPS6KB1\n",
      "length  526\n",
      "EKFSFEPKIRSPRRFIGSPR T PVSPVKFSPGDFWGRGASAS\n",
      "ok.\n"
     ]
    }
   ],
   "source": [
    "site_check('P23443-1', 'T', 444)"
   ]
  },
  {
   "cell_type": "code",
   "execution_count": 26,
   "metadata": {},
   "outputs": [
    {
     "name": "stdout",
     "output_type": "stream",
     "text": [
      "http://www.uniprot.org/uniprot/P23443-1\n",
      "name  RPS6KB1\n",
      "length  526\n",
      "SFEPKIRSPRRFIGSPRTPV S PVKFSPGDFWGRGASASTAN\n",
      "ok.\n"
     ]
    }
   ],
   "source": [
    "site_check('P23443-1', 'S', 447)"
   ]
  },
  {
   "cell_type": "markdown",
   "metadata": {},
   "source": [
    "---\n",
    "# RPS6"
   ]
  },
  {
   "cell_type": "code",
   "execution_count": 27,
   "metadata": {},
   "outputs": [
    {
     "name": "stdout",
     "output_type": "stream",
     "text": [
      "http://www.uniprot.org/uniprot/P62753-1\n",
      "name  RPS6\n",
      "length  250\n",
      "KRMKEAKEKRQEQIAKRRRL S SLRASTSKSESSQK\n",
      "ok.\n"
     ]
    }
   ],
   "source": [
    "site_check('P62753-1', 'S', 235)"
   ]
  },
  {
   "cell_type": "code",
   "execution_count": 28,
   "metadata": {},
   "outputs": [
    {
     "name": "stdout",
     "output_type": "stream",
     "text": [
      "http://www.uniprot.org/uniprot/P62753-1\n",
      "name  RPS6\n",
      "length  250\n",
      "RMKEAKEKRQEQIAKRRRLS S LRASTSKSESSQK\n",
      "ok.\n"
     ]
    }
   ],
   "source": [
    "site_check('P62753-1', 'S', 236)"
   ]
  },
  {
   "cell_type": "markdown",
   "metadata": {},
   "source": [
    "---\n",
    "# PRKAA1"
   ]
  },
  {
   "cell_type": "code",
   "execution_count": 29,
   "metadata": {
    "scrolled": true
   },
   "outputs": [
    {
     "name": "stdout",
     "output_type": "stream",
     "text": [
      "http://www.uniprot.org/uniprot/Q13131-1\n",
      "name  PRKAA1\n",
      "length  560\n",
      "KPENVLLDAHMNAKIADFGL S NMMSDGEFLRTSCGSPNYAA\n",
      "X X X X X X X X X X X X X X X X X X X X X X X X X X X X X X X X X X X X X X\n"
     ]
    }
   ],
   "source": [
    "site_check('Q13131-1', 'T', 172)"
   ]
  },
  {
   "cell_type": "markdown",
   "metadata": {},
   "source": [
    "### check PTM\n",
    "- phosphothreonine in position 23, 183, 269\n",
    "- nearest phosphothreonine is at 183, also supported by curated site map and Phosphosite"
   ]
  },
  {
   "cell_type": "code",
   "execution_count": 30,
   "metadata": {},
   "outputs": [
    {
     "name": "stdout",
     "output_type": "stream",
     "text": [
      "http://www.uniprot.org/uniprot/Q13131-1\n",
      "name  PRKAA1\n",
      "length  560\n",
      "NAKIADFGLSNMMSDGEFLR T SCGSPNYAAPEVISGRLYAG\n",
      "ok.\n"
     ]
    }
   ],
   "source": [
    "site_check('Q13131-1', 'T', 183)"
   ]
  },
  {
   "cell_type": "markdown",
   "metadata": {},
   "source": [
    "---\n",
    "# MAPK8"
   ]
  },
  {
   "cell_type": "code",
   "execution_count": 31,
   "metadata": {},
   "outputs": [
    {
     "name": "stdout",
     "output_type": "stream",
     "text": [
      "http://www.uniprot.org/uniprot/P45983-1\n",
      "name  MAPK8\n",
      "length  428\n",
      "CTLKILDFGLARTAGTSFMM T PYVVTRYYRAPEVILGMGYK\n",
      "ok.\n"
     ]
    }
   ],
   "source": [
    "site_check('P45983-1', 'T', 183)"
   ]
  },
  {
   "cell_type": "code",
   "execution_count": 32,
   "metadata": {},
   "outputs": [
    {
     "name": "stdout",
     "output_type": "stream",
     "text": [
      "http://www.uniprot.org/uniprot/P45983-1\n",
      "name  MAPK8\n",
      "length  428\n",
      "LKILDFGLARTAGTSFMMTP Y VVTRYYRAPEVILGMGYKEN\n",
      "ok.\n"
     ]
    }
   ],
   "source": [
    "site_check('P45983-1', 'Y', 185)"
   ]
  },
  {
   "cell_type": "markdown",
   "metadata": {},
   "source": [
    "---\n",
    "# MAPK9"
   ]
  },
  {
   "cell_type": "code",
   "execution_count": 33,
   "metadata": {},
   "outputs": [
    {
     "name": "stdout",
     "output_type": "stream",
     "text": [
      "http://www.uniprot.org/uniprot/P45984-1\n",
      "name  MAPK9\n",
      "length  425\n",
      "CTLKILDFGLARTACTNFMM T PYVVTRYYRAPEVILGMGYK\n",
      "ok.\n"
     ]
    }
   ],
   "source": [
    "site_check('P45984-1', 'T', 183)"
   ]
  },
  {
   "cell_type": "code",
   "execution_count": 34,
   "metadata": {},
   "outputs": [
    {
     "name": "stdout",
     "output_type": "stream",
     "text": [
      "http://www.uniprot.org/uniprot/P45984-1\n",
      "name  MAPK9\n",
      "length  425\n",
      "LKILDFGLARTACTNFMMTP Y VVTRYYRAPEVILGMGYKEN\n",
      "ok.\n"
     ]
    }
   ],
   "source": [
    "site_check('P45984-1', 'Y', 185)"
   ]
  },
  {
   "cell_type": "markdown",
   "metadata": {},
   "source": [
    "---\n",
    "# MAPK10"
   ]
  },
  {
   "cell_type": "code",
   "execution_count": 35,
   "metadata": {},
   "outputs": [
    {
     "name": "stdout",
     "output_type": "stream",
     "text": [
      "http://www.uniprot.org/uniprot/P53779-1\n",
      "name  MAPK10\n",
      "length  465\n",
      "HERMSYLLYQMLCGIKHLHS A GIIHRDLKPSNIVVKSDCTL\n",
      "X X X X X X X X X X X X X X X X X X X X X X X X X X X X X X X X X X X X X X\n"
     ]
    }
   ],
   "source": [
    "site_check('P53779-1', 'T', 183)"
   ]
  },
  {
   "cell_type": "code",
   "execution_count": 36,
   "metadata": {},
   "outputs": [
    {
     "name": "stdout",
     "output_type": "stream",
     "text": [
      "http://www.uniprot.org/uniprot/P53779-1\n",
      "name  MAPK10\n",
      "length  465\n",
      "RMSYLLYQMLCGIKHLHSAG I IHRDLKPSNIVVKSDCTLKI\n",
      "X X X X X X X X X X X X X X X X X X X X X X X X X X X X X X X X X X X X X X\n"
     ]
    }
   ],
   "source": [
    "site_check('P53779-1', 'Y', 185)"
   ]
  },
  {
   "cell_type": "markdown",
   "metadata": {},
   "source": [
    "### check PTM\n",
    "- T221, Y223 pair found with correct spacing"
   ]
  },
  {
   "cell_type": "code",
   "execution_count": 37,
   "metadata": {},
   "outputs": [
    {
     "name": "stdout",
     "output_type": "stream",
     "text": [
      "http://www.uniprot.org/uniprot/P53779-1\n",
      "name  MAPK10\n",
      "length  465\n",
      "CTLKILDFGLARTAGTSFMM T PYVVTRYYRAPEVILGMGYK\n",
      "ok.\n"
     ]
    }
   ],
   "source": [
    "site_check('P53779-1', 'T', 221)"
   ]
  },
  {
   "cell_type": "code",
   "execution_count": 38,
   "metadata": {},
   "outputs": [
    {
     "name": "stdout",
     "output_type": "stream",
     "text": [
      "http://www.uniprot.org/uniprot/P53779-1\n",
      "name  MAPK10\n",
      "length  465\n",
      "LKILDFGLARTAGTSFMMTP Y VVTRYYRAPEVILGMGYKEN\n",
      "ok.\n"
     ]
    }
   ],
   "source": [
    "site_check('P53779-1', 'Y', 223)"
   ]
  },
  {
   "cell_type": "markdown",
   "metadata": {},
   "source": [
    "---\n",
    "# JUN"
   ]
  },
  {
   "cell_type": "code",
   "execution_count": 39,
   "metadata": {},
   "outputs": [
    {
     "name": "stdout",
     "output_type": "stream",
     "text": [
      "http://www.uniprot.org/uniprot/P05412-1\n",
      "name  JUN\n",
      "length  332\n",
      "ADPVGSLKPHLRAKNSDLLT S PDVGLLKLASPELERLIIQS\n",
      "ok.\n"
     ]
    }
   ],
   "source": [
    "site_check('P05412-1', 'S', 63)"
   ]
  },
  {
   "cell_type": "markdown",
   "metadata": {},
   "source": [
    "---\n",
    "# MAPK14"
   ]
  },
  {
   "cell_type": "code",
   "execution_count": 40,
   "metadata": {},
   "outputs": [
    {
     "name": "stdout",
     "output_type": "stream",
     "text": [
      "http://www.uniprot.org/uniprot/Q16539-1\n",
      "name  MAPK14\n",
      "length  361\n",
      "EDCELKILDFGLARHTDDEM T GYVATRWYRAPEIMLNWMHY\n",
      "ok.\n"
     ]
    }
   ],
   "source": [
    "site_check('Q16539-1', 'T', 180)"
   ]
  },
  {
   "cell_type": "markdown",
   "metadata": {},
   "source": [
    "---\n",
    "# HSPB1"
   ]
  },
  {
   "cell_type": "code",
   "execution_count": 41,
   "metadata": {},
   "outputs": [
    {
     "name": "stdout",
     "output_type": "stream",
     "text": [
      "http://www.uniprot.org/uniprot/P04792-1\n",
      "name  HSPB1\n",
      "length  206\n",
      "AIESPAVAAPAYSRALSRQL S SGVSEIRHTADRWRVSLDVN\n",
      "ok.\n"
     ]
    }
   ],
   "source": [
    "site_check('P04792-1', 'S', 82)"
   ]
  },
  {
   "cell_type": "markdown",
   "metadata": {},
   "source": [
    "---\n",
    "# RELA"
   ]
  },
  {
   "cell_type": "code",
   "execution_count": 42,
   "metadata": {},
   "outputs": [
    {
     "name": "stdout",
     "output_type": "stream",
     "text": [
      "http://www.uniprot.org/uniprot/Q04206-1\n",
      "name  RELA\n",
      "length  552\n",
      "APLGAPGLPNGLLSGDEDFS S IADMDFSALLSQISS\n",
      "ok.\n"
     ]
    }
   ],
   "source": [
    "site_check('Q04206-1', 'S', 536)"
   ]
  },
  {
   "cell_type": "markdown",
   "metadata": {},
   "source": [
    "---\n",
    "# HIST1H3A-J"
   ]
  },
  {
   "cell_type": "code",
   "execution_count": 43,
   "metadata": {},
   "outputs": [
    {
     "name": "stdout",
     "output_type": "stream",
     "text": [
      "http://www.uniprot.org/uniprot/P68431-1\n",
      "name  HIST1H3H\n",
      "length  137\n",
      " MARTKQTAR K STGGKAPRKQLATKAARKSA\n",
      "X X X X X X X X X X X X X X X X X X X X X X X X X X X X X X X X X X X X X X\n"
     ]
    }
   ],
   "source": [
    "site_check('P68431-1', 'S', 10)"
   ]
  },
  {
   "cell_type": "markdown",
   "metadata": {},
   "source": [
    "### check PTM\n",
    "- phosphoserine at position 11\n",
    "- looks like an off by one"
   ]
  },
  {
   "cell_type": "code",
   "execution_count": 44,
   "metadata": {},
   "outputs": [
    {
     "name": "stdout",
     "output_type": "stream",
     "text": [
      "http://www.uniprot.org/uniprot/P68431-1\n",
      "name  HIST1H3H\n",
      "length  137\n",
      " MARTKQTARK S TGGKAPRKQLATKAARKSAP\n",
      "ok.\n"
     ]
    }
   ],
   "source": [
    "site_check('P68431-1', 'S', 11)"
   ]
  },
  {
   "cell_type": "markdown",
   "metadata": {},
   "source": [
    "---\n",
    "# HIST2H3A,C,D"
   ]
  },
  {
   "cell_type": "code",
   "execution_count": 45,
   "metadata": {},
   "outputs": [
    {
     "name": "stdout",
     "output_type": "stream",
     "text": [
      "http://www.uniprot.org/uniprot/Q71DI3-1\n",
      "name  HIST2H3D\n",
      "length  137\n",
      " MARTKQTAR K STGGKAPRKQLATKAARKSA\n",
      "X X X X X X X X X X X X X X X X X X X X X X X X X X X X X X X X X X X X X X\n"
     ]
    }
   ],
   "source": [
    "site_check('Q71DI3-1', 'S', 10)"
   ]
  },
  {
   "cell_type": "markdown",
   "metadata": {},
   "source": [
    "### check PTM\n",
    "- phosphoserine at position 11\n",
    "- looks like an off by one"
   ]
  },
  {
   "cell_type": "code",
   "execution_count": 46,
   "metadata": {
    "scrolled": false
   },
   "outputs": [
    {
     "name": "stdout",
     "output_type": "stream",
     "text": [
      "http://www.uniprot.org/uniprot/Q71DI3-1\n",
      "name  HIST2H3D\n",
      "length  137\n",
      " MARTKQTARK S TGGKAPRKQLATKAARKSAP\n",
      "ok.\n"
     ]
    }
   ],
   "source": [
    "site_check('Q71DI3-1', 'S', 11)"
   ]
  },
  {
   "cell_type": "markdown",
   "metadata": {},
   "source": [
    "---\n",
    "# H3F3A,B"
   ]
  },
  {
   "cell_type": "code",
   "execution_count": 47,
   "metadata": {},
   "outputs": [
    {
     "name": "stdout",
     "output_type": "stream",
     "text": [
      "http://www.uniprot.org/uniprot/P84243-1\n",
      "name  H3F3B\n",
      "length  137\n",
      " MARTKQTAR K STGGKAPRKQLATKAARKSA\n",
      "X X X X X X X X X X X X X X X X X X X X X X X X X X X X X X X X X X X X X X\n"
     ]
    }
   ],
   "source": [
    "site_check('P84243-1', 'S', 10)"
   ]
  },
  {
   "cell_type": "markdown",
   "metadata": {},
   "source": [
    "### check PTM\n",
    "- phosphoserine at position 11\n",
    "- looks like an off by one"
   ]
  },
  {
   "cell_type": "code",
   "execution_count": 48,
   "metadata": {
    "scrolled": true
   },
   "outputs": [
    {
     "name": "stdout",
     "output_type": "stream",
     "text": [
      "http://www.uniprot.org/uniprot/P84243-1\n",
      "name  H3F3B\n",
      "length  137\n",
      " MARTKQTARK S TGGKAPRKQLATKAARKSAP\n",
      "ok.\n"
     ]
    }
   ],
   "source": [
    "site_check('P84243-1', 'S', 11)"
   ]
  },
  {
   "cell_type": "code",
   "execution_count": null,
   "metadata": {
    "collapsed": true
   },
   "outputs": [],
   "source": []
  }
 ],
 "metadata": {
  "kernelspec": {
   "display_name": "Python [conda env:py35]",
   "language": "python",
   "name": "conda-env-py35-py"
  },
  "language_info": {
   "codemirror_mode": {
    "name": "ipython",
    "version": 3
   },
   "file_extension": ".py",
   "mimetype": "text/x-python",
   "name": "python",
   "nbconvert_exporter": "python",
   "pygments_lexer": "ipython3",
   "version": "3.5.3"
  }
 },
 "nbformat": 4,
 "nbformat_minor": 2
}
