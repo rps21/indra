{
 "cells": [
  {
   "cell_type": "markdown",
   "metadata": {},
   "source": [
    "# From text to models in World Modelers"
   ]
  },
  {
   "cell_type": "markdown",
   "metadata": {},
   "source": [
    "## Choose text corpus to process"
   ]
  },
  {
   "cell_type": "code",
   "execution_count": 9,
   "metadata": {},
   "outputs": [],
   "source": [
    "text = \"\"\"The government promotes improved cultivar to boost agricultural \n",
    "production for ensuring food security. However, the policy to seriously \n",
    "cut down the use of inorganic fertilizer and phase out the fertilizer \n",
    "subsidy results in deteriorating biophysical conditions, low use of inorganic\n",
    "fertilizer, less water, significantly reduced farm sizes which lead to low \n",
    "benefit from the improved cultivar.\"\"\""
   ]
  },
  {
   "cell_type": "markdown",
   "metadata": {},
   "source": [
    "## Read text via interface to Eidos system"
   ]
  },
  {
   "cell_type": "code",
   "execution_count": 18,
   "metadata": {},
   "outputs": [],
   "source": [
    "from indra.sources import eidos\n",
    "eidos_processor = eidos.process_text(text, out_format='json_ld')"
   ]
  },
  {
   "cell_type": "markdown",
   "metadata": {},
   "source": [
    "## De-duplicated INDRA Influence Statements"
   ]
  },
  {
   "cell_type": "code",
   "execution_count": 19,
   "metadata": {},
   "outputs": [],
   "source": [
    "statements = eidos_processor.statements"
   ]
  },
  {
   "cell_type": "code",
   "execution_count": 20,
   "metadata": {},
   "outputs": [
    {
     "name": "stderr",
     "output_type": "stream",
     "text": [
      "INFO: [2018-04-10 22:57:21] indra/assemble_corpus - Combining duplicates on 5 statements...\n",
      "INFO: [2018-04-10 22:57:21] indra/assemble_corpus - 5 unique statements\n",
      "INFO: [2018-04-10 22:57:21] indra/assemble_corpus - Combining related on 5 statements...\n",
      "INFO: [2018-04-10 22:57:21] indra/preassembler - combine_related: poolsize not set, not using multiprocessing.\n",
      "INFO: [2018-04-10 22:57:21] indra/preassembler - Preassembling Influence (5)\n",
      "INFO: [2018-04-10 22:57:21] indra/preassembler - Groups: 5 parent, 0 worker\n",
      "INFO: [2018-04-10 22:57:21] indra/preassembler - Done running parent process groups\n",
      "INFO: [2018-04-10 22:57:21] indra/preassembler - Done.\n",
      "INFO: [2018-04-10 22:57:21] indra/assemble_corpus - Filtering 5 statements for top-level...\n",
      "INFO: [2018-04-10 22:57:21] indra/assemble_corpus - 5 statements after filter...\n",
      "INFO: [2018-04-10 22:57:21] indra/assemble_corpus - 5 top-level statements\n"
     ]
    }
   ],
   "source": [
    "import indra.tools.assemble_corpus as ac\n",
    "statements = ac.run_preassembly(statements)"
   ]
  },
  {
   "cell_type": "code",
   "execution_count": 21,
   "metadata": {
    "scrolled": true
   },
   "outputs": [
    {
     "data": {
      "text/plain": [
       "[Influence(fertilizer(), farm(negative)),\n",
       " Influence(farm(negative), benefit()),\n",
       " Influence(government(), cultivar(positive)),\n",
       " Influence(biophysical conditions(negative), benefit()),\n",
       " Influence(cultivar(positive), production(positive))]"
      ]
     },
     "execution_count": 21,
     "metadata": {},
     "output_type": "execute_result"
    }
   ],
   "source": [
    "statements"
   ]
  },
  {
   "cell_type": "markdown",
   "metadata": {},
   "source": [
    "## Assemble and visualize as interactive graph"
   ]
  },
  {
   "cell_type": "code",
   "execution_count": 22,
   "metadata": {},
   "outputs": [
    {
     "data": {
      "text/plain": [
       "<networkx.classes.multidigraph.MultiDiGraph at 0x1139a16a0>"
      ]
     },
     "execution_count": 22,
     "metadata": {},
     "output_type": "execute_result"
    }
   ],
   "source": [
    "from indra.assemblers import CAGAssembler\n",
    "ca = CAGAssembler(statements)\n",
    "ca.make_model()"
   ]
  },
  {
   "cell_type": "code",
   "execution_count": 23,
   "metadata": {},
   "outputs": [
    {
     "data": {
      "application/javascript": [
       "require.config({\n",
       "        paths: {\n",
       "          cytoscape: 'https://cdnjs.cloudflare.com/ajax/libs/cytoscape/3.2.8/cytoscape',\n",
       "        }\n",
       "      })\n",
       "\n",
       "      require(['cytoscape'], function(cytoscape){\n",
       "        $(\"#cyDiv\").remove();\n",
       "        element.append(\"<div id='cyDiv'></div>\");\n",
       "        $(\"#cyDiv\").height(\"300px\");\n",
       "\n",
       "          var cy = cytoscape({\n",
       "            container : document.getElementById('cyDiv'),\n",
       "            elements  : {\n",
       "  \"nodes\": [\n",
       "    {\n",
       "      \"data\": {\n",
       "        \"id\": \"Fertilizer\",\n",
       "        \"simulable\": false,\n",
       "        \"tooltip\": \"Modifiers: []\"\n",
       "      }\n",
       "    },\n",
       "    {\n",
       "      \"data\": {\n",
       "        \"id\": \"Farm\",\n",
       "        \"simulable\": false,\n",
       "        \"tooltip\": \"Modifiers: [\\\"significantly\\\"]\"\n",
       "      }\n",
       "    },\n",
       "    {\n",
       "      \"data\": {\n",
       "        \"id\": \"Benefit\",\n",
       "        \"simulable\": false,\n",
       "        \"tooltip\": \"Modifiers: []\"\n",
       "      }\n",
       "    },\n",
       "    {\n",
       "      \"data\": {\n",
       "        \"id\": \"Government\",\n",
       "        \"simulable\": false,\n",
       "        \"tooltip\": \"Modifiers: []\"\n",
       "      }\n",
       "    },\n",
       "    {\n",
       "      \"data\": {\n",
       "        \"id\": \"Cultivar\",\n",
       "        \"simulable\": true,\n",
       "        \"tooltip\": \"Modifiers: []\"\n",
       "      }\n",
       "    },\n",
       "    {\n",
       "      \"data\": {\n",
       "        \"id\": \"Biophysical conditions\",\n",
       "        \"simulable\": false,\n",
       "        \"tooltip\": \"Modifiers: []\"\n",
       "      }\n",
       "    },\n",
       "    {\n",
       "      \"data\": {\n",
       "        \"id\": \"Production\",\n",
       "        \"simulable\": true,\n",
       "        \"tooltip\": \"Modifiers: []\"\n",
       "      }\n",
       "    }\n",
       "  ],\n",
       "  \"edges\": [\n",
       "    {\n",
       "      \"data\": {\n",
       "        \"id\": \"Fertilizer_Farm\",\n",
       "        \"source\": \"Fertilizer\",\n",
       "        \"target\": \"Farm\",\n",
       "        \"linestyle\": \"dotted\",\n",
       "        \"linecolor\": \"maroon\",\n",
       "        \"targetArrowShape\": \"triangle\",\n",
       "        \"subj_adjectives\": [],\n",
       "        \"subj_polarity\": null,\n",
       "        \"obj_adjectives\": [\n",
       "          \"significantly\"\n",
       "        ],\n",
       "        \"obj_polarity\": -1,\n",
       "        \"tooltip\": {\n",
       "          \"document\": {\n",
       "            \"@id\": \"_:Document_1\"\n",
       "          },\n",
       "          \"sentence\": {\n",
       "            \"@id\": \"_:Sentence_2\"\n",
       "          },\n",
       "          \"positions\": {\n",
       "            \"@type\": \"Interval\",\n",
       "            \"start\": 27,\n",
       "            \"end\": 38\n",
       "          },\n",
       "          \"text\": \"use of inorganic fertilizer, less water, significantly reduced farm sizes\"\n",
       "        },\n",
       "        \"simulable\": false\n",
       "      }\n",
       "    },\n",
       "    {\n",
       "      \"data\": {\n",
       "        \"id\": \"Farm_Benefit\",\n",
       "        \"source\": \"Farm\",\n",
       "        \"target\": \"Benefit\",\n",
       "        \"linestyle\": \"dotted\",\n",
       "        \"linecolor\": \"maroon\",\n",
       "        \"targetArrowShape\": \"triangle\",\n",
       "        \"subj_adjectives\": [\n",
       "          \"significantly\"\n",
       "        ],\n",
       "        \"subj_polarity\": -1,\n",
       "        \"obj_adjectives\": [],\n",
       "        \"obj_polarity\": null,\n",
       "        \"tooltip\": {\n",
       "          \"document\": {\n",
       "            \"@id\": \"_:Document_1\"\n",
       "          },\n",
       "          \"sentence\": {\n",
       "            \"@id\": \"_:Sentence_2\"\n",
       "          },\n",
       "          \"positions\": {\n",
       "            \"@type\": \"Interval\",\n",
       "            \"start\": 37,\n",
       "            \"end\": 43\n",
       "          },\n",
       "          \"text\": \"farm sizes which lead to low  benefit\"\n",
       "        },\n",
       "        \"simulable\": false\n",
       "      }\n",
       "    },\n",
       "    {\n",
       "      \"data\": {\n",
       "        \"id\": \"Government_Cultivar\",\n",
       "        \"source\": \"Government\",\n",
       "        \"target\": \"Cultivar\",\n",
       "        \"linestyle\": \"dotted\",\n",
       "        \"linecolor\": \"maroon\",\n",
       "        \"targetArrowShape\": \"triangle\",\n",
       "        \"subj_adjectives\": [],\n",
       "        \"subj_polarity\": null,\n",
       "        \"obj_adjectives\": [],\n",
       "        \"obj_polarity\": 1,\n",
       "        \"tooltip\": {\n",
       "          \"document\": {\n",
       "            \"@id\": \"_:Document_1\"\n",
       "          },\n",
       "          \"sentence\": {\n",
       "            \"@id\": \"_:Sentence_1\"\n",
       "          },\n",
       "          \"positions\": {\n",
       "            \"@type\": \"Interval\",\n",
       "            \"start\": 2,\n",
       "            \"end\": 5\n",
       "          },\n",
       "          \"text\": \"government promotes improved cultivar\"\n",
       "        },\n",
       "        \"simulable\": false\n",
       "      }\n",
       "    },\n",
       "    {\n",
       "      \"data\": {\n",
       "        \"id\": \"Cultivar_Production\",\n",
       "        \"source\": \"Cultivar\",\n",
       "        \"target\": \"Production\",\n",
       "        \"linestyle\": \"solid\",\n",
       "        \"linecolor\": \"green\",\n",
       "        \"targetArrowShape\": \"circle\",\n",
       "        \"subj_adjectives\": [],\n",
       "        \"subj_polarity\": 1,\n",
       "        \"obj_adjectives\": [],\n",
       "        \"obj_polarity\": 1,\n",
       "        \"tooltip\": {\n",
       "          \"document\": {\n",
       "            \"@id\": \"_:Document_1\"\n",
       "          },\n",
       "          \"sentence\": {\n",
       "            \"@id\": \"_:Sentence_1\"\n",
       "          },\n",
       "          \"positions\": {\n",
       "            \"@type\": \"Interval\",\n",
       "            \"start\": 5,\n",
       "            \"end\": 9\n",
       "          },\n",
       "          \"text\": \"cultivar to boost agricultural  production\"\n",
       "        },\n",
       "        \"simulable\": true\n",
       "      }\n",
       "    },\n",
       "    {\n",
       "      \"data\": {\n",
       "        \"id\": \"Biophysical conditions_Benefit\",\n",
       "        \"source\": \"Biophysical conditions\",\n",
       "        \"target\": \"Benefit\",\n",
       "        \"linestyle\": \"dotted\",\n",
       "        \"linecolor\": \"maroon\",\n",
       "        \"targetArrowShape\": \"triangle\",\n",
       "        \"subj_adjectives\": [],\n",
       "        \"subj_polarity\": -1,\n",
       "        \"obj_adjectives\": [],\n",
       "        \"obj_polarity\": null,\n",
       "        \"tooltip\": {\n",
       "          \"document\": {\n",
       "            \"@id\": \"_:Document_1\"\n",
       "          },\n",
       "          \"sentence\": {\n",
       "            \"@id\": \"_:Sentence_2\"\n",
       "          },\n",
       "          \"positions\": {\n",
       "            \"@type\": \"Interval\",\n",
       "            \"start\": 23,\n",
       "            \"end\": 43\n",
       "          },\n",
       "          \"text\": \"biophysical conditions, low use of inorganic fertilizer, less water, significantly reduced farm sizes which lead to low  benefit\"\n",
       "        },\n",
       "        \"simulable\": false\n",
       "      }\n",
       "    }\n",
       "  ]\n",
       "},\n",
       "            style     : [\n",
       "  {\n",
       "    \"selector\": \"node\",\n",
       "    \"style\": {\n",
       "      \"label\": \"data(id)\",\n",
       "      \"background-color\": \"white\",\n",
       "      \"border-color\": \"maroon\",\n",
       "      \"border-width\": \"1px\",\n",
       "      \"font-family\": \"Arno Pro, Arial\",\n",
       "      \"text-halign\": \"center\",\n",
       "      \"text-valign\": \"center\",\n",
       "      \"padding\": 10,\n",
       "      \"width\": \"function( node ){ return 2*node.degree(); }\",\n",
       "      \"height\": \"function( node ){ return 2*node.degree(); }\",\n",
       "      \"shape\": \"ellipse\",\n",
       "      \"text-max-width\": 80,\n",
       "      \"text-wrap\": true\n",
       "    }\n",
       "  },\n",
       "  {\n",
       "    \"selector\": \"edge\",\n",
       "    \"style\": {\n",
       "      \"curve-style\": \"bezier\",\n",
       "      \"line-color\": \"data(linecolor)\",\n",
       "      \"target-arrow-shape\": \"data(targetArrowShape)\",\n",
       "      \"target-arrow-color\": \"data(linecolor)\",\n",
       "      \"line-style\": \"data(linestyle)\",\n",
       "      \"width\": \"1\"\n",
       "    }\n",
       "  }\n",
       "],\n",
       "            layout    : {\n",
       "  \"name\": \"cose\",\n",
       "  \"nodeDimensionsIncludeLabels\": true,\n",
       "  \"componentSpacing\": 1,\n",
       "  \"nodeOverlap\": 1000,\n",
       "  \"nodeRepulsion\": 500\n",
       "},\n",
       "            maxZoom   : 10,\n",
       "            minZoom   : 0.1,\n",
       "          });\n",
       "      });\n"
      ],
      "text/plain": [
       "<IPython.core.display.Javascript object>"
      ]
     },
     "execution_count": 23,
     "metadata": {},
     "output_type": "execute_result"
    }
   ],
   "source": [
    "from IPython.core.display import Javascript\n",
    "Javascript(ca.generate_jupyter_js())"
   ]
  },
  {
   "cell_type": "markdown",
   "metadata": {},
   "source": [
    "## Assemble and visualize as static graph"
   ]
  },
  {
   "cell_type": "code",
   "execution_count": 24,
   "metadata": {},
   "outputs": [],
   "source": [
    "from indra.assemblers import GraphAssembler\n",
    "ga = GraphAssembler(statements)\n",
    "ga.make_model()\n",
    "ga.save_pdf('model_graph.pdf')"
   ]
  },
  {
   "cell_type": "code",
   "execution_count": 25,
   "metadata": {},
   "outputs": [
    {
     "data": {
      "text/html": [
       "\n",
       "        <iframe\n",
       "            width=\"600\"\n",
       "            height=\"500\"\n",
       "            src=\"model_graph.pdf\"\n",
       "            frameborder=\"0\"\n",
       "            allowfullscreen\n",
       "        ></iframe>\n",
       "        "
      ],
      "text/plain": [
       "<IPython.lib.display.IFrame at 0x14d7e1908>"
      ]
     },
     "execution_count": 25,
     "metadata": {},
     "output_type": "execute_result"
    }
   ],
   "source": [
    "from IPython.display import IFrame\n",
    "IFrame(\"model_graph.pdf\", width=600, height=500)"
   ]
  },
  {
   "cell_type": "markdown",
   "metadata": {},
   "source": [
    "## Assemble into a system of ODEs and simulate"
   ]
  },
  {
   "cell_type": "code",
   "execution_count": 26,
   "metadata": {},
   "outputs": [],
   "source": [
    "from indra.assemblers import PysbAssembler\n",
    "from pysb.simulator import ScipyOdeSimulator; import numpy; import matplotlib.pyplot as plt; plt.ion()"
   ]
  },
  {
   "cell_type": "code",
   "execution_count": 27,
   "metadata": {},
   "outputs": [
    {
     "name": "stderr",
     "output_type": "stream",
     "text": [
      "WARNING: [2018-04-10 22:57:41] indra/databases - Unhandled name space EIDOS\n",
      "WARNING: [2018-04-10 22:57:41] indra/databases - Unhandled name space EIDOS\n",
      "WARNING: [2018-04-10 22:57:41] indra/databases - Unhandled name space EIDOS\n",
      "WARNING: [2018-04-10 22:57:41] indra/databases - Unhandled name space EIDOS\n",
      "WARNING: [2018-04-10 22:57:41] indra/databases - Unhandled name space EIDOS\n",
      "WARNING: [2018-04-10 22:57:41] indra/databases - Unhandled name space EIDOS\n",
      "WARNING: [2018-04-10 22:57:41] indra/databases - Unhandled name space EIDOS\n"
     ]
    }
   ],
   "source": [
    "pa = PysbAssembler()\n",
    "pa.add_statements(statements)\n",
    "model = pa.make_model()"
   ]
  },
  {
   "cell_type": "code",
   "execution_count": 28,
   "metadata": {},
   "outputs": [],
   "source": [
    "import numpy\n",
    "ts = numpy.linspace(0, 50000)\n",
    "sim = ScipyOdeSimulator(model, ts)"
   ]
  },
  {
   "cell_type": "code",
   "execution_count": 29,
   "metadata": {},
   "outputs": [],
   "source": [
    "res = sim.run()"
   ]
  },
  {
   "cell_type": "code",
   "execution_count": 30,
   "metadata": {
    "scrolled": true
   },
   "outputs": [
    {
     "data": {
      "text/plain": [
       "<matplotlib.legend.Legend at 0x15166fc88>"
      ]
     },
     "execution_count": 30,
     "metadata": {},
     "output_type": "execute_result"
    },
    {
     "data": {
      "image/png": "[encoded data removed]",
      "text/plain": [
       "<Figure size 504x216 with 1 Axes>"
      ]
     },
     "metadata": {},
     "output_type": "display_data"
    }
   ],
   "source": [
    "plt.figure(figsize=(7,3))\n",
    "plt.xlim(0, 50000)\n",
    "plt.ylim(0, 100000)\n",
    "plt.xlabel('Time')\n",
    "plt.ylabel('Relative amount (a.u.)')\n",
    "plt.xticks([])\n",
    "plt.yticks([])\n",
    "for i, cp in enumerate(model.species):\n",
    "    if str(cp) == 'benefit()':\n",
    "        plt.plot(ts, res.all['__s%d' % i], label=str(cp))\n",
    "plt.legend()"
   ]
  },
  {
   "cell_type": "markdown",
   "metadata": {},
   "source": [
    "## Assemble into a Bayesian Network represented as a Figaro model"
   ]
  },
  {
   "cell_type": "code",
   "execution_count": 31,
   "metadata": {},
   "outputs": [],
   "source": [
    "from indra.assemblers import FigaroAssembler"
   ]
  },
  {
   "cell_type": "code",
   "execution_count": 32,
   "metadata": {},
   "outputs": [],
   "source": [
    "fa = FigaroAssembler(statements, readout='benefit')"
   ]
  },
  {
   "cell_type": "code",
   "execution_count": 33,
   "metadata": {},
   "outputs": [],
   "source": [
    "fa.make_model()"
   ]
  },
  {
   "cell_type": "code",
   "execution_count": 34,
   "metadata": {},
   "outputs": [
    {
     "name": "stdout",
     "output_type": "stream",
     "text": [
      "import com.cra.figaro.language._\n",
      "import com.cra.figaro.library.atomic._\n",
      "import com.cra.figaro.library.compound._\n",
      "import com.cra.figaro.library.atomic.continuous.Normal\n",
      "import com.cra.figaro.algorithm.sampling.Importance\n",
      "\n",
      "object IndraModel {\n",
      "val fertilizer = Normal(1,0.2)\n",
      "val farm = Chain(fertilizer, (v:Double) => Normal(v, 0.2))\n",
      "val benefit = Chain(^^(farm,biophysical_conditions), (v:(Double,Double)) => Normal(+ 1.00 * v._1 + 1.00 * v._2, 0.2))\n",
      "val government = Normal(1,0.2)\n",
      "val cultivar = Chain(government, (v:Double) => Normal(v, 0.2))\n",
      "val biophysical_conditions = Normal(1,0.2)\n",
      "val production = Chain(cultivar, (v:Double) => Normal(v, 0.2))\n",
      "def main(args:Array[String]) = {var importance = Importance(100000, benefit)\n",
      "importance.start()\n",
      "val expv = importance.computeExpectation(benefit, (v: Double) => v)\n",
      "println(expv)}\n",
      "}\n"
     ]
    }
   ],
   "source": [
    "print(fa.print_model('IndraModel.scala'))"
   ]
  }
 ],
 "metadata": {
  "kernelspec": {
   "display_name": "Python 3",
   "language": "python",
   "name": "python3"
  },
  "language_info": {
   "codemirror_mode": {
    "name": "ipython",
    "version": 3
   },
   "file_extension": ".py",
   "mimetype": "text/x-python",
   "name": "python",
   "nbconvert_exporter": "python",
   "pygments_lexer": "ipython3",
   "version": "3.6.4"
  }
 },
 "nbformat": 4,
 "nbformat_minor": 2
}
