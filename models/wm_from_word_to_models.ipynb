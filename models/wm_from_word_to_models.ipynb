{
 "cells": [
  {
   "cell_type": "markdown",
   "metadata": {},
   "source": [
    "# From text to models in World Modelers"
   ]
  },
  {
   "cell_type": "markdown",
   "metadata": {},
   "source": [
    "## Choose text corpus to process"
   ]
  },
  {
   "cell_type": "code",
   "execution_count": 1,
   "metadata": {
    "collapsed": true
   },
   "outputs": [],
   "source": [
    "text = \"\"\"The government promotes improved cultivar to boost agricultural production for ensuring food security. \n",
    "However, the policy to seriously cut down the use of inorganic fertilizer and \n",
    "phase out the fertilizer subsidy results in deteriorating biophysical conditions, \n",
    "low use of inorganic fertilizer, less water, significantly reduced farm sizes \n",
    "which lead to low benefit from the improved cultivar.\"\"\""
   ]
  },
  {
   "cell_type": "markdown",
   "metadata": {},
   "source": [
    "## Read text via interface to Eidos system"
   ]
  },
  {
   "cell_type": "code",
   "execution_count": 2,
   "metadata": {
    "collapsed": true
   },
   "outputs": [],
   "source": [
    "from indra.sources import eidos"
   ]
  },
  {
   "cell_type": "code",
   "execution_count": 3,
   "metadata": {
    "scrolled": true
   },
   "outputs": [],
   "source": [
    "eidos_processor = eidos.process_text(text)"
   ]
  },
  {
   "cell_type": "markdown",
   "metadata": {},
   "source": [
    "## Instantiated INDRA Influence Statements"
   ]
  },
  {
   "cell_type": "code",
   "execution_count": 4,
   "metadata": {
    "collapsed": true
   },
   "outputs": [],
   "source": [
    "statements = eidos_processor.statements"
   ]
  },
  {
   "cell_type": "code",
   "execution_count": 5,
   "metadata": {},
   "outputs": [
    {
     "data": {
      "text/plain": [
       "[Influence(biophysical conditions(negative), benefit(negative)),\n",
       " Influence(farm sizes(negative), benefit(negative)),\n",
       " Influence(use of inorganic fertilizer(negative), farm sizes(negative)),\n",
       " Influence(government, agricultural production(positive)),\n",
       " Influence(government, agricultural production(positive)),\n",
       " Influence(government, cultivar(positive)),\n",
       " Influence(government, cultivar(positive)),\n",
       " Influence(cultivar(positive), benefit(negative)),\n",
       " Influence(policy, biophysical conditions(negative)),\n",
       " Influence(agricultural production(positive), food security),\n",
       " Influence(agricultural production(positive), food security)]"
      ]
     },
     "execution_count": 5,
     "metadata": {},
     "output_type": "execute_result"
    }
   ],
   "source": [
    "statements"
   ]
  },
  {
   "cell_type": "markdown",
   "metadata": {},
   "source": [
    "## Assemble into graph and visualize"
   ]
  },
  {
   "cell_type": "code",
   "execution_count": 6,
   "metadata": {
    "collapsed": true
   },
   "outputs": [],
   "source": [
    "from indra.assemblers import GraphAssembler"
   ]
  },
  {
   "cell_type": "code",
   "execution_count": 7,
   "metadata": {
    "collapsed": true
   },
   "outputs": [],
   "source": [
    "ga = GraphAssembler(statements)"
   ]
  },
  {
   "cell_type": "code",
   "execution_count": 8,
   "metadata": {
    "collapsed": true
   },
   "outputs": [],
   "source": [
    "ga.make_model()"
   ]
  },
  {
   "cell_type": "code",
   "execution_count": 9,
   "metadata": {
    "collapsed": true
   },
   "outputs": [],
   "source": [
    "ga.save_pdf('model_graph.pdf')"
   ]
  },
  {
   "cell_type": "code",
   "execution_count": 10,
   "metadata": {},
   "outputs": [
    {
     "data": {
      "text/html": [
       "\n",
       "        <iframe\n",
       "            width=\"600\"\n",
       "            height=\"500\"\n",
       "            src=\"model_graph.pdf\"\n",
       "            frameborder=\"0\"\n",
       "            allowfullscreen\n",
       "        ></iframe>\n",
       "        "
      ],
      "text/plain": [
       "<IPython.lib.display.IFrame at 0x13e84d208>"
      ]
     },
     "execution_count": 10,
     "metadata": {},
     "output_type": "execute_result"
    }
   ],
   "source": [
    "from IPython.display import IFrame\n",
    "IFrame(\"model_graph.pdf\", width=600, height=500)"
   ]
  },
  {
   "cell_type": "markdown",
   "metadata": {},
   "source": [
    "## Assemble into a system of ODEs and simulate"
   ]
  },
  {
   "cell_type": "code",
   "execution_count": 11,
   "metadata": {
    "collapsed": true
   },
   "outputs": [],
   "source": [
    "from indra.assemblers import PysbAssembler\n",
    "from pysb.simulator import ScipyOdeSimulator; import numpy; import matplotlib.pyplot as plt; plt.ion()"
   ]
  },
  {
   "cell_type": "code",
   "execution_count": 12,
   "metadata": {
    "collapsed": true
   },
   "outputs": [],
   "source": [
    "pa = PysbAssembler()"
   ]
  },
  {
   "cell_type": "code",
   "execution_count": 13,
   "metadata": {
    "collapsed": true
   },
   "outputs": [],
   "source": [
    "pa.add_statements(statements)"
   ]
  },
  {
   "cell_type": "code",
   "execution_count": 14,
   "metadata": {},
   "outputs": [
    {
     "name": "stderr",
     "output_type": "stream",
     "text": [
      "WARNING: indra/pysb_assembler - Rule government_synthesizes_agricultural_production already in model! Skipping.\n",
      "WARNING: indra/pysb_assembler - Rule government_synthesizes_cultivar already in model! Skipping.\n",
      "WARNING: indra/pysb_assembler - Rule agricultural_production_synthesizes_food_security already in model! Skipping.\n"
     ]
    }
   ],
   "source": [
    "model = pa.make_model()"
   ]
  },
  {
   "cell_type": "code",
   "execution_count": 15,
   "metadata": {
    "collapsed": true
   },
   "outputs": [],
   "source": [
    "ts = numpy.linspace(0, 100000)\n",
    "sim = ScipyOdeSimulator(model, ts)"
   ]
  },
  {
   "cell_type": "code",
   "execution_count": 16,
   "metadata": {
    "collapsed": true
   },
   "outputs": [],
   "source": [
    "res = sim.run()"
   ]
  },
  {
   "cell_type": "code",
   "execution_count": 17,
   "metadata": {},
   "outputs": [
    {
     "data": {
      "image/png": "[encoded data removed]",
      "text/plain": [
       "<matplotlib.figure.Figure at 0x13f0742b0>"
      ]
     },
     "metadata": {},
     "output_type": "display_data"
    }
   ],
   "source": [
    "plt.figure()\n",
    "plt.xlim(0, 100000)\n",
    "plt.ylim(0, 120000)\n",
    "for i, cp in enumerate(model.species):\n",
    "    plt.plot(ts, res.all['__s%d' % i], label=str(cp))"
   ]
  },
  {
   "cell_type": "markdown",
   "metadata": {},
   "source": [
    "## Assemble into a Bayesian Network represented as a Figaro model"
   ]
  },
  {
   "cell_type": "code",
   "execution_count": 18,
   "metadata": {},
   "outputs": [],
   "source": [
    "from indra.assemblers import FigaroAssembler"
   ]
  },
  {
   "cell_type": "code",
   "execution_count": 25,
   "metadata": {},
   "outputs": [],
   "source": [
    "fa = FigaroAssembler(statements, readout='benefit')"
   ]
  },
  {
   "cell_type": "code",
   "execution_count": 26,
   "metadata": {},
   "outputs": [],
   "source": [
    "fa.make_model()"
   ]
  },
  {
   "cell_type": "code",
   "execution_count": 27,
   "metadata": {},
   "outputs": [
    {
     "name": "stdout",
     "output_type": "stream",
     "text": [
      "import com.cra.figaro.language._\n",
      "import com.cra.figaro.library.atomic._\n",
      "import com.cra.figaro.library.compound._\n",
      "import com.cra.figaro.library.atomic.continuous.Normal\n",
      "import com.cra.figaro.algorithm.sampling.Importance\n",
      "\n",
      "object IndraModel {\n",
      "val food_security = Chain(agricultural_production, (v:Double) => Normal(v, 0.2))\n",
      "val agricultural_production = Chain(government, (v:Double) => Normal(v, 0.2))\n",
      "val use_of_inorganic_fertilizer = Normal(1,0.2)\n",
      "val benefit = Chain(^^(farm_sizes,biophysical_conditions,cultivar), (v:(Double,Double,Double)) => Normal(+ 1.00 * v._1 + 1.00 * v._2 + 1.00 * v._3, 0.2))\n",
      "val farm_sizes = Chain(use_of_inorganic_fertilizer, (v:Double) => Normal(v, 0.2))\n",
      "val policy = Normal(1,0.2)\n",
      "val biophysical_conditions = Chain(policy, (v:Double) => Normal(v, 0.2))\n",
      "val cultivar = Chain(government, (v:Double) => Normal(v, 0.2))\n",
      "val government = Normal(1,0.2)\n",
      "def main(args:Array[String]) = {var importance = Importance(100000, benefit)\n",
      "importance.start()\n",
      "val expv = importance.computeExpectation(benefit, (v: Double) => v)\n",
      "println(expv)}\n",
      "}\n"
     ]
    }
   ],
   "source": [
    "print(fa.print_model('IndraModel.scala'))"
   ]
  }
 ],
 "metadata": {
  "kernelspec": {
   "display_name": "Python 3",
   "language": "python",
   "name": "python3"
  },
  "language_info": {
   "codemirror_mode": {
    "name": "ipython",
    "version": 3
   },
   "file_extension": ".py",
   "mimetype": "text/x-python",
   "name": "python",
   "nbconvert_exporter": "python",
   "pygments_lexer": "ipython3",
   "version": "3.5.2"
  }
 },
 "nbformat": 4,
 "nbformat_minor": 2
}
