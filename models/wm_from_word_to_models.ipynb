{
 "cells": [
  {
   "cell_type": "markdown",
   "metadata": {},
   "source": [
    "# From text to models in World Modelers"
   ]
  },
  {
   "cell_type": "markdown",
   "metadata": {},
   "source": [
    "## Choose text corpus to process"
   ]
  },
  {
   "cell_type": "code",
   "execution_count": 1,
   "metadata": {
    "collapsed": true
   },
   "outputs": [],
   "source": [
    "text = \"\"\"The government promotes improved cultivar to boost agricultural production for ensuring food\n",
    "security. However, the policy to seriously cut down the use of inorganic fertilizer and phase out\n",
    "the fertilizer subsidy results in deteriorating biophysical conditions, low use of inorganic\n",
    "fertilizer, less water, significantly reduced farm sizes which lead to low benefit from the\n",
    "improved cultivar.\"\"\""
   ]
  },
  {
   "cell_type": "markdown",
   "metadata": {},
   "source": [
    "## Read text via interface to Eidos system"
   ]
  },
  {
   "cell_type": "code",
   "execution_count": 2,
   "metadata": {
    "collapsed": true
   },
   "outputs": [
    {
     "name": "stderr",
     "output_type": "stream",
     "text": [
      "WARNING: indra/eidos - More than one attachment to event.\n",
      "WARNING: indra/eidos - More than one attachment to event.\n",
      "WARNING: indra/eidos - More than one attachment to event.\n",
      "WARNING: indra/eidos - More than one attachment to event.\n",
      "WARNING: indra/eidos - More than one attachment to event.\n",
      "WARNING: indra/eidos - More than one attachment to event.\n",
      "WARNING: indra/eidos - More than one attachment to event.\n",
      "WARNING: indra/eidos - More than one attachment to event.\n",
      "WARNING: indra/eidos - More than one attachment to event.\n",
      "WARNING: indra/eidos - More than one attachment to event.\n"
     ]
    }
   ],
   "source": [
    "from indra.sources import eidos\n",
    "eidos_processor = eidos.process_text(text)"
   ]
  },
  {
   "cell_type": "markdown",
   "metadata": {},
   "source": [
    "## De-duplicated INDRA Influence Statements"
   ]
  },
  {
   "cell_type": "code",
   "execution_count": 3,
   "metadata": {
    "collapsed": true
   },
   "outputs": [],
   "source": [
    "statements = eidos_processor.statements"
   ]
  },
  {
   "cell_type": "code",
   "execution_count": 4,
   "metadata": {
    "collapsed": true
   },
   "outputs": [
    {
     "name": "stderr",
     "output_type": "stream",
     "text": [
      "INFO: indra/assemble_corpus - Combining duplicates on 18 statements...\n",
      "INFO: indra/assemble_corpus - 10 unique statements\n",
      "INFO: indra/assemble_corpus - Combining related on 10 statements...\n",
      "INFO: indra/preassembler - combine_related: poolsize not set, not using multiprocessing.\n",
      "INFO: indra/preassembler - Preassembling Influence (10)\n",
      "INFO: indra/preassembler - Groups: 10 parent, 0 worker\n",
      "INFO: indra/preassembler - Done running parent process groups\n",
      "INFO: indra/preassembler - Done.\n",
      "INFO: indra/assemble_corpus - Filtering 10 statements for top-level...\n",
      "INFO: indra/assemble_corpus - 10 statements after filter...\n",
      "INFO: indra/assemble_corpus - 10 top-level statements\n"
     ]
    }
   ],
   "source": [
    "import indra.tools.assemble_corpus as ac\n",
    "statements = ac.run_preassembly(statements)"
   ]
  },
  {
   "cell_type": "code",
   "execution_count": 5,
   "metadata": {},
   "outputs": [
    {
     "data": {
      "text/plain": [
       "[Influence(agricultural production(positive), food security()),\n",
       " Influence(biophysical conditions(negative), benefit()),\n",
       " Influence(cultivar(positive), agricultural production(positive)),\n",
       " Influence(cultivar(positive), benefit()),\n",
       " Influence(farm sizes(negative), benefit()),\n",
       " Influence(government(), agricultural production(positive)),\n",
       " Influence(government(), cultivar(positive)),\n",
       " Influence(policy(), biophysical conditions(negative)),\n",
       " Influence(use of inorganic fertilizer(), farm sizes(negative)),\n",
       " Influence(water(negative), farm sizes(negative))]"
      ]
     },
     "execution_count": 5,
     "metadata": {},
     "output_type": "execute_result"
    }
   ],
   "source": [
    "statements"
   ]
  },
  {
   "cell_type": "markdown",
   "metadata": {},
   "source": [
    "## Assemble into graph and visualize"
   ]
  },
  {
   "cell_type": "code",
   "execution_count": 6,
   "metadata": {
    "collapsed": true
   },
   "outputs": [],
   "source": [
    "from indra.assemblers import GraphAssembler\n",
    "ga = GraphAssembler(statements)\n",
    "ga.make_model()\n",
    "ga.save_pdf('model_graph.pdf')"
   ]
  },
  {
   "cell_type": "code",
   "execution_count": 7,
   "metadata": {},
   "outputs": [
    {
     "data": {
      "text/html": [
       "\n",
       "        <iframe\n",
       "            width=\"600\"\n",
       "            height=\"500\"\n",
       "            src=\"model_graph.pdf\"\n",
       "            frameborder=\"0\"\n",
       "            allowfullscreen\n",
       "        ></iframe>\n",
       "        "
      ],
      "text/plain": [
       "<IPython.lib.display.IFrame at 0x10ecfab70>"
      ]
     },
     "execution_count": 7,
     "metadata": {},
     "output_type": "execute_result"
    }
   ],
   "source": [
    "from IPython.display import IFrame\n",
    "IFrame(\"model_graph.pdf\", width=600, height=500)"
   ]
  },
  {
   "cell_type": "markdown",
   "metadata": {},
   "source": [
    "## Assemble into a system of ODEs and simulate"
   ]
  },
  {
   "cell_type": "code",
   "execution_count": 8,
   "metadata": {
    "collapsed": true
   },
   "outputs": [],
   "source": [
    "from indra.assemblers import PysbAssembler\n",
    "from pysb.simulator import ScipyOdeSimulator; import numpy; import matplotlib.pyplot as plt; plt.ion()"
   ]
  },
  {
   "cell_type": "code",
   "execution_count": 9,
   "metadata": {},
   "outputs": [],
   "source": [
    "pa = PysbAssembler()\n",
    "pa.add_statements(statements)\n",
    "model = pa.make_model()"
   ]
  },
  {
   "cell_type": "code",
   "execution_count": 10,
   "metadata": {},
   "outputs": [],
   "source": [
    "import numpy\n",
    "ts = numpy.linspace(0, 50000)\n",
    "sim = ScipyOdeSimulator(model, ts)"
   ]
  },
  {
   "cell_type": "code",
   "execution_count": 11,
   "metadata": {},
   "outputs": [],
   "source": [
    "res = sim.run()"
   ]
  },
  {
   "cell_type": "code",
   "execution_count": 17,
   "metadata": {
    "scrolled": true
   },
   "outputs": [
    {
     "data": {
      "text/plain": [
       "<matplotlib.legend.Legend at 0x1436adda0>"
      ]
     },
     "execution_count": 17,
     "metadata": {},
     "output_type": "execute_result"
    },
    {
     "data": {
      "image/png": "[encoded data removed]",
      "text/plain": [
       "<matplotlib.figure.Figure at 0x143696320>"
      ]
     },
     "metadata": {},
     "output_type": "display_data"
    }
   ],
   "source": [
    "plt.figure(figsize=(7,3))\n",
    "plt.xlim(0, 50000)\n",
    "plt.ylim(0, 100000)\n",
    "plt.xlabel('Time')\n",
    "plt.ylabel('Relative amount (a.u.)')\n",
    "plt.xticks([])\n",
    "plt.yticks([])\n",
    "for i, cp in enumerate(model.species):\n",
    "    if str(cp) == 'benefit()':\n",
    "        plt.plot(ts, res.all['__s%d' % i], label=str(cp))\n",
    "plt.legend()"
   ]
  },
  {
   "cell_type": "markdown",
   "metadata": {},
   "source": [
    "## Assemble into a Bayesian Network represented as a Figaro model"
   ]
  },
  {
   "cell_type": "code",
   "execution_count": 18,
   "metadata": {
    "collapsed": true
   },
   "outputs": [],
   "source": [
    "from indra.assemblers import FigaroAssembler"
   ]
  },
  {
   "cell_type": "code",
   "execution_count": 19,
   "metadata": {
    "collapsed": true
   },
   "outputs": [],
   "source": [
    "fa = FigaroAssembler(statements, readout='benefit')"
   ]
  },
  {
   "cell_type": "code",
   "execution_count": 20,
   "metadata": {
    "collapsed": true
   },
   "outputs": [],
   "source": [
    "fa.make_model()"
   ]
  },
  {
   "cell_type": "code",
   "execution_count": 21,
   "metadata": {},
   "outputs": [
    {
     "name": "stdout",
     "output_type": "stream",
     "text": [
      "import com.cra.figaro.language._\n",
      "import com.cra.figaro.library.atomic._\n",
      "import com.cra.figaro.library.compound._\n",
      "import com.cra.figaro.library.atomic.continuous.Normal\n",
      "import com.cra.figaro.algorithm.sampling.Importance\n",
      "\n",
      "object IndraModel {\n",
      "val biophysical_conditions = Chain(policy, (v:Double) => Normal(v, 0.2))\n",
      "val benefit = Chain(^^(biophysical_conditions,cultivar,farm_sizes), (v:(Double,Double,Double)) => Normal(+ 1.00 * v._1 + 1.00 * v._2 + 1.00 * v._3, 0.2))\n",
      "val government = Normal(1,0.2)\n",
      "val cultivar = Chain(government, (v:Double) => Normal(v, 0.2))\n",
      "val policy = Normal(1,0.2)\n",
      "val agricultural_production = Chain(^^(government,cultivar), (v:(Double,Double)) => Normal(+ 1.00 * v._1 + 1.00 * v._2, 0.2))\n",
      "val use_of_inorganic_fertilizer = Normal(1,0.2)\n",
      "val farm_sizes = Chain(^^(use_of_inorganic_fertilizer,water), (v:(Double,Double)) => Normal(+ 1.00 * v._1 + 1.00 * v._2, 0.2))\n",
      "val water = Normal(1,0.2)\n",
      "val food_security = Chain(agricultural_production, (v:Double) => Normal(v, 0.2))\n",
      "def main(args:Array[String]) = {var importance = Importance(100000, benefit)\n",
      "importance.start()\n",
      "val expv = importance.computeExpectation(benefit, (v: Double) => v)\n",
      "println(expv)}\n",
      "}\n"
     ]
    }
   ],
   "source": [
    "print(fa.print_model('IndraModel.scala'))"
   ]
  }
 ],
 "metadata": {
  "kernelspec": {
   "display_name": "Python 3",
   "language": "python",
   "name": "python3"
  },
  "language_info": {
   "codemirror_mode": {
    "name": "ipython",
    "version": 3
   },
   "file_extension": ".py",
   "mimetype": "text/x-python",
   "name": "python",
   "nbconvert_exporter": "python",
   "pygments_lexer": "ipython3",
   "version": "3.5.2"
  }
 },
 "nbformat": 4,
 "nbformat_minor": 2
}
